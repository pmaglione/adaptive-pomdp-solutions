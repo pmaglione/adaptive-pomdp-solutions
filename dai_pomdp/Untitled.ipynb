{
 "cells": [
  {
   "cell_type": "markdown",
   "metadata": {},
   "source": [
    "### generate and solve"
   ]
  },
  {
   "cell_type": "code",
   "execution_count": 1,
   "metadata": {},
   "outputs": [],
   "source": [
    "from ModelLearning.genPOMDP import *\n",
    "from os import system\n",
    "\n",
    "diffs = [[0,1], #5 states\n",
    "         [0, 0.33, 0.66, 1], #9 states\n",
    "         [0, 0.2, 0.4, 0.6, 0.8, 1], # 13 states\n",
    "         [0, 0.15, 0.3, 0.45, 0.6, 0.75, 0.9, 1] #17 states\n",
    "        ]\n",
    "\n",
    "wrong_answer_costs = [10,20,50,500,1000]\n",
    "\n",
    "#filename, wronganswercost,createjobcost,distributionavg,numpools\n",
    "for wrong_cost in wrong_answer_costs:\n",
    "    for diff in diffs:\n",
    "        num_st = len(diff) * 2 + 1\n",
    "        name = f'{num_st}states-c{wrong_cost}'\n",
    "        #genPOMDP(f'log/pomdp/{name}.pomdp', -1 * wrong_cost, [1], [1], 1, diff)\n",
    "        system(f\"/Users/pmaglione/Repos/adaptive-pomdp-solutions/WorkerPoolSelection/ModelLearning/zmdp-1.1.7/bin/darwin18/zmdp solve log/pomdp/{name}.pomdp -o ModelLearning/Policies/{name}.policy -t 300\")\n",
    "    "
   ]
  },
  {
   "cell_type": "markdown",
   "metadata": {},
   "source": [
    "### solve"
   ]
  },
  {
   "cell_type": "code",
   "execution_count": 3,
   "metadata": {},
   "outputs": [],
   "source": [
    "from ModelLearning.genPOMDP import *\n",
    "from os import system\n",
    "\n",
    "wrong_answer_costs = [10,20,50,500,1000]\n",
    "unclassify_costs = [5,10,20,200,500]\n",
    "\n",
    "for ind in range(len(wrong_answer_costs)):\n",
    "\n",
    "    name = f'unclassified-w{wrong_answer_costs[ind]}-u{unclassify_costs[ind]}'\n",
    "    system(f\"/Users/pmaglione/Repos/adaptive-pomdp-solutions/WorkerPoolSelection/ModelLearning/zmdp-1.1.7/bin/darwin18/zmdp solve log/pomdp/{name}.pomdp -o ModelLearning/Policies/{name}.policy -t 300\")\n",
    "    "
   ]
  },
  {
   "cell_type": "code",
   "execution_count": null,
   "metadata": {},
   "outputs": [],
   "source": []
  }
 ],
 "metadata": {
  "kernelspec": {
   "display_name": "Python 3",
   "language": "python",
   "name": "python3"
  },
  "language_info": {
   "codemirror_mode": {
    "name": "ipython",
    "version": 3
   },
   "file_extension": ".py",
   "mimetype": "text/x-python",
   "name": "python",
   "nbconvert_exporter": "python",
   "pygments_lexer": "ipython3",
   "version": "3.7.2"
  }
 },
 "nbformat": 4,
 "nbformat_minor": 2
}
