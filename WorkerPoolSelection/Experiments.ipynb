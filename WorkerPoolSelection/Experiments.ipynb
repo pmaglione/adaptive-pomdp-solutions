{
 "cells": [
  {
   "cell_type": "markdown",
   "metadata": {},
   "source": [
    "# Experiments on Dai's Framework"
   ]
  },
  {
   "cell_type": "markdown",
   "metadata": {},
   "source": [
    "## Ask toloka: if we have a process and we detect workers quality, how to (without affecting their reputation):\n",
    "1. Make good workers continue working, adding pages? expanding items in a page?\n",
    "2. Make bad workers stop working, blank page? \n",
    "\n",
    "msg to telegram support group:\n",
    "- you can make qualifying pool for all users and set a skill only for good workers. Then you can open pools only for that workers who have the skill. It shouldn't affect user reputation. Even if you stop worker by using ban on your project, it will not change user rating.\n",
    "- When user accepts a task, he shoud be able to complete it. You can't close the task while performing."
   ]
  },
  {
   "cell_type": "markdown",
   "metadata": {},
   "source": [
    "## 1. Try POMDP models with different rewards\n",
    "- Correct answer reward always = 0\n",
    "- Vary Incorrect answer reward = {-10,...,-1000}\n",
    "- Vary Create Job reward = {-1,...,-10}"
   ]
  },
  {
   "cell_type": "markdown",
   "metadata": {},
   "source": [
    "### Results\n",
    "Tried for wrong answer cost:\n",
    "- -10, -500, -1000, -5000, -10000, -15000\n",
    "- Loss Ratio = 5\n",
    "\n",
    "### Base Results 23 states, $\\gamma \\sim Normal(1, 0.2)$ \n",
    "  ---\n",
    "Results for cost: 10:\n",
    "Cost mean: 1.0 - Std: 0.0\n",
    "Recall mean: 0.747 - Std: 0.012\n",
    "Precision mean: 0.758 - Std: 0.017\n",
    "Loss mean: 0.749 - Std: 0.028\n",
    "\n",
    "  ---  \n",
    "Results for cost: 500:\n",
    "Cost mean: 7.764 - Std: 0.309\n",
    "Recall mean: 0.964 - Std: 0.012\n",
    "Precision mean: 0.966 - Std: 0.009\n",
    "Loss mean: 0.106 - Std: 0.033\n",
    "\n",
    "  ---  \n",
    "Results for cost: 1000:\n",
    "Cost mean: 9.291 - Std: 0.374\n",
    "Recall mean: 0.972 - Std: 0.011\n",
    "Precision mean: 0.975 - Std: 0.008\n",
    "Loss mean: 0.083 - Std: 0.03\n",
    "\n",
    "  ---  \n",
    "Results for cost: 5000:\n",
    "Cost mean: 14.858 - Std: 0.324\n",
    "Recall mean: 0.993 - Std: 0.005\n",
    "Precision mean: 0.992 - Std: 0.005\n",
    "Loss mean: 0.021 - Std: 0.013\n",
    "\n",
    "  ---  \n",
    "Results for cost: 10000:\n",
    "Cost mean: 15.35 - Std: 0.313\n",
    "Recall mean: 0.993 - Std: 0.002\n",
    "Precision mean: 0.997 - Std: 0.003\n",
    "Loss mean: 0.019 - Std: 0.006\n",
    "\n",
    "  ---  \n",
    "Results for cost: 15000:\n",
    "Cost mean: 17.38 - Std: 0.412\n",
    "Recall mean: 0.994 - Std: 0.003\n",
    "Precision mean: 0.998 - Std: 0.002\n",
    "Loss mean: 0.016 - Std: 0.006\n"
   ]
  },
  {
   "cell_type": "markdown",
   "metadata": {},
   "source": [
    "## 2. Test with different number of states in the model of MDP\n",
    "(difficulty, true_label)\n",
    "- 5:  (0,0)(1,0)(0,1)(1,1)(T)\n",
    "- 9:  (0,0)(0.33,0)(0.66,0)(1,0)(0,1)(0.33,1)(0.66,1)(1,1)(T)\n",
    "- 13: (0,0)(0.2,0)(0.4,0)(0.6,0)(0.8,0)(1,0)(0,1)(0.2,1)(0.4,1)(0.6,1)(0.8,1)(1,1)(T)\n",
    "- 17: (0,0)(0.15,0)(0.3,0)(0.45,0)(0.6,0)(0.75,0)(0.9,0)(1,0)(0,1)(0.15,1)(0.3,1)(0.45,1)(0.6,1)(0.75,1)(0.9,1)(1,1)(T)\n"
   ]
  },
  {
   "cell_type": "markdown",
   "metadata": {},
   "source": [
    "### Results\n",
    "  --- \n",
    "Num States: 5\n",
    "Results for cost: 500:\n",
    "Cost mean: 1.0 - Std: 0.0\n",
    "Recall mean: 0.766 - Std: 0.013\n",
    "Precision mean: 0.761 - Std: 0.015\n",
    "Loss mean: 0.716 - Std: 0.039\n",
    "\n",
    "  ---  \n",
    "Num States: 9\n",
    "Results for cost: 500:\n",
    "Cost mean: 5.9 - Std: 0.063\n",
    "Recall mean: 0.947 - Std: 0.007\n",
    "Precision mean: 0.948 - Std: 0.007\n",
    "Loss mean: 0.163 - Std: 0.022\n",
    "\n",
    "  ---  \n",
    "Num States: 13\n",
    "Results for cost: 500:\n",
    "Cost mean: 7.276 - Std: 0.104\n",
    "Recall mean: 0.955 - Std: 0.011\n",
    "Precision mean: 0.965 - Std: 0.007\n",
    "Loss mean: 0.127 - Std: 0.029\n",
    "\n",
    "  ---  \n",
    "Num States: 17\n",
    "Results for cost: 500:\n",
    "Cost mean: 7.254 - Std: 0.123\n",
    "Recall mean: 0.96 - Std: 0.009\n",
    "Precision mean: 0.954 - Std: 0.012\n",
    "Loss mean: 0.122 - Std: 0.028\n",
    "\n",
    "  ---  "
   ]
  },
  {
   "cell_type": "markdown",
   "metadata": {},
   "source": [
    "## 3. Try adding 1 more state \"Unclassified\" and the corresponding action"
   ]
  },
  {
   "cell_type": "markdown",
   "metadata": {},
   "source": [
    "- POMDP defined and solved\n",
    "- Should change the code for managing the new action and state"
   ]
  },
  {
   "cell_type": "markdown",
   "metadata": {},
   "source": [
    "## 4. Try with different error rate distribution\n",
    "- try to represent a set of workers composed by half very good and half very bad\n",
    "- Good: $\\gamma \\sim Normal(1, 0.2)$ \n",
    "- Bad:  $\\gamma \\sim Normal(4, 0.5)$ "
   ]
  },
  {
   "cell_type": "code",
   "execution_count": 9,
   "metadata": {},
   "outputs": [
    {
     "name": "stdout",
     "output_type": "stream",
     "text": [
      "Worker Error Rate: 1\n",
      "Difficulty: 0.0 - Accuracy: 1.0\n",
      "Difficulty: 0.1 - Accuracy: 0.95\n",
      "Difficulty: 0.2 - Accuracy: 0.9\n",
      "Difficulty: 0.3 - Accuracy: 0.85\n",
      "Difficulty: 0.4 - Accuracy: 0.8\n",
      "Difficulty: 0.5 - Accuracy: 0.75\n",
      "Difficulty: 0.6 - Accuracy: 0.7\n",
      "Difficulty: 0.7 - Accuracy: 0.65\n",
      "Difficulty: 0.8 - Accuracy: 0.6\n",
      "Difficulty: 0.9 - Accuracy: 0.55\n",
      "Difficulty: 1.0 - Accuracy: 0.5\n",
      "Worker Error Rate: 4\n",
      "Difficulty: 0.0 - Accuracy: 1.0\n",
      "Difficulty: 0.1 - Accuracy: 0.82805\n",
      "Difficulty: 0.2 - Accuracy: 0.7048000000000001\n",
      "Difficulty: 0.3 - Accuracy: 0.62005\n",
      "Difficulty: 0.4 - Accuracy: 0.5648\n",
      "Difficulty: 0.5 - Accuracy: 0.53125\n",
      "Difficulty: 0.6 - Accuracy: 0.5128\n",
      "Difficulty: 0.7 - Accuracy: 0.50405\n",
      "Difficulty: 0.8 - Accuracy: 0.5008\n",
      "Difficulty: 0.9 - Accuracy: 0.50005\n",
      "Difficulty: 1.0 - Accuracy: 0.5\n"
     ]
    }
   ],
   "source": [
    "from ModelLearning.utils import *\n",
    "\n",
    "\n",
    "def get_acc(d, gamma):\n",
    "    return 1/2 * (1 + (1-d)**gamma)\n",
    "\n",
    "diffs = getDifficulties(0.1)\n",
    "gammas = [1, 4]\n",
    "for gamma in gammas:\n",
    "    print(f\"Worker Error Rate: {gamma}\")\n",
    "    for d in diffs:\n",
    "        \n",
    "        acc = get_acc(d, gamma)\n",
    "        print(f\"Difficulty: {d} - Accuracy: {acc}\")"
   ]
  },
  {
   "cell_type": "markdown",
   "metadata": {},
   "source": [
    "### Results\n",
    "  --- \n",
    "Num States: 23\n",
    "Results for cost: 500:\n",
    "Cost mean: 10.127 - Std: 0.202\n",
    "Recall mean: 0.876 - Std: 0.027\n",
    "Precision mean: 0.875 - Std: 0.018\n",
    "Loss mean: 0.381 - Std: 0.067\n",
    "\n",
    "  ---  "
   ]
  },
  {
   "cell_type": "markdown",
   "metadata": {},
   "source": [
    "## 5. Try modelling workers error rate as a confusion matrix\n",
    "- a worker error rate for possitive label class\n",
    "- a worker error rate for negative label class"
   ]
  },
  {
   "cell_type": "markdown",
   "metadata": {},
   "source": [
    "## 6. Dont update belief immediately using average error rate, first compute each worker error rate\n",
    "- Using worker error rate with distribution Normal(1, 0.2)\n",
    "- Change logic to the following procedure, for each item $i \\in I$, and a set of workers $W$ :\n",
    "    1. Request vote for an item i\n",
    "    2. Collect a worker vote over item i\n",
    "    3. Estimate worker error rate and item true label using EM\n",
    "    4. Update belief state over item i\n"
   ]
  },
  {
   "cell_type": "markdown",
   "metadata": {},
   "source": [
    "## 7. Try with different dataset balances to have an insight about next items belief state\n",
    "- think in if we see a big % of items classified in a class and a new item arrives, the prob distribution over states should not be equally likely between all states"
   ]
  },
  {
   "cell_type": "code",
   "execution_count": null,
   "metadata": {},
   "outputs": [],
   "source": []
  },
  {
   "cell_type": "code",
   "execution_count": null,
   "metadata": {},
   "outputs": [],
   "source": []
  }
 ],
 "metadata": {
  "kernelspec": {
   "display_name": "Python 3",
   "language": "python",
   "name": "python3"
  },
  "language_info": {
   "codemirror_mode": {
    "name": "ipython",
    "version": 3
   },
   "file_extension": ".py",
   "mimetype": "text/x-python",
   "name": "python",
   "nbconvert_exporter": "python",
   "pygments_lexer": "ipython3",
   "version": "3.7.2"
  }
 },
 "nbformat": 4,
 "nbformat_minor": 2
}
